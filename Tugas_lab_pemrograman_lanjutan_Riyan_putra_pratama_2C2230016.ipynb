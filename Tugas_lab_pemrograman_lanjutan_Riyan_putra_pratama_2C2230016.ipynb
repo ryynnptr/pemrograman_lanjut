{
  "nbformat": 4,
  "nbformat_minor": 0,
  "metadata": {
    "colab": {
      "provenance": [],
      "authorship_tag": "ABX9TyNwU2iBJvjvT/aYA3Yk9M+H",
      "include_colab_link": true
    },
    "kernelspec": {
      "name": "python3",
      "display_name": "Python 3"
    },
    "language_info": {
      "name": "python"
    }
  },
  "cells": [
    {
      "cell_type": "markdown",
      "metadata": {
        "id": "view-in-github",
        "colab_type": "text"
      },
      "source": [
        "<a href=\"https://colab.research.google.com/github/ryynnptr/pemrograman_lanjut/blob/main/Tugas_lab_pemrograman_lanjutan_Riyan_putra_pratama_2C2230016.ipynb\" target=\"_parent\"><img src=\"https://colab.research.google.com/assets/colab-badge.svg\" alt=\"Open In Colab\"/></a>"
      ]
    },
    {
      "cell_type": "markdown",
      "source": [
        "**1. Fungsi Kuadrat**"
      ],
      "metadata": {
        "id": "UgjznXWNYlRe"
      }
    },
    {
      "cell_type": "code",
      "execution_count": null,
      "metadata": {
        "colab": {
          "base_uri": "https://localhost:8080/"
        },
        "id": "n1reSI1LYeWl",
        "outputId": "b958bae4-c898-4a91-a82c-81c40076a4b2"
      },
      "outputs": [
        {
          "output_type": "stream",
          "name": "stdout",
          "text": [
            "Masukkan A: 3\n",
            "Masukkan B: 6\n",
            "f(3) = 8\n",
            "f(4) = 13\n",
            "f(5) = 20\n",
            "f(6) = 29\n"
          ]
        }
      ],
      "source": [
        "#fungi f(x)\n",
        "def f(x):\n",
        "    return x**2 - 2*x + 5\n",
        "\n",
        "# Input nilai A dan B\n",
        "A = int(input(\"Masukkan A: \"))\n",
        "B = int(input(\"Masukkan B: \"))\n",
        "\n",
        "# looping untuk menghitung f(x) dari A ke B\n",
        "for x in range(A, B + 1):\n",
        "    print(f\"f({x}) = {f(x)}\")\n"
      ]
    },
    {
      "cell_type": "markdown",
      "source": [
        "**2. Validasi Sandi**"
      ],
      "metadata": {
        "id": "J49raUITYusG"
      }
    },
    {
      "cell_type": "code",
      "source": [
        "def validasi_sandi(sandi):\n",
        "    # Validasi panjang sandi\n",
        "    if len(sandi) < 8:\n",
        "        return False, \"Sandi harus minimal 8 karakter.\"\n",
        "\n",
        "    # Validasi keberadaan huruf besar\n",
        "    if not any(char.isupper() for char in sandi):\n",
        "        return False, \"Sandi harus mengandung minimal satu huruf besar.\"\n",
        "\n",
        "    # Validasi keberadaan angka\n",
        "    if not any(char.isdigit() for char in sandi):\n",
        "        return False, \"Sandi harus mengandung minimal satu angka.\"\n",
        "\n",
        "    # Jika semua validasi terpenuhi\n",
        "    return True, \"Sandi valid.\"\n",
        "\n",
        "#penggunaan\n",
        "sandi = input(\"Masukkan sandi: \")\n",
        "is_valid, alasan = validasi_sandi(sandi)\n",
        "print(alasan)\n"
      ],
      "metadata": {
        "colab": {
          "base_uri": "https://localhost:8080/"
        },
        "id": "W_NtuS2WYwtR",
        "outputId": "2534235e-64d5-468c-aaf1-2a557fef4f11"
      },
      "execution_count": null,
      "outputs": [
        {
          "output_type": "stream",
          "name": "stdout",
          "text": [
            "Masukkan sandi: Riyan500204\n",
            "Sandi valid.\n"
          ]
        }
      ]
    },
    {
      "cell_type": "markdown",
      "source": [
        "3. Determinan Matriks"
      ],
      "metadata": {
        "id": "eb4w8F2GZIhX"
      }
    },
    {
      "cell_type": "code",
      "source": [
        "def determinant_2x2(matrix):\n",
        "    # hitung determinan 2x2\n",
        "    determinan = (matrix[0][0] * matrix[1][1]) - (matrix[0][1] * matrix[1][0])\n",
        "    return determinan\n",
        "\n",
        "# input matriks dari user\n",
        "print(\"Masukkan elemen matriks 2x2 secara berurutan:\")\n",
        "a = int(input(\"Masukkan elemen a (baris 1, kolom 1): \"))\n",
        "b = int(input(\"Masukkan elemen b (baris 1, kolom 2): \"))\n",
        "c = int(input(\"Masukkan elemen c (baris 2, kolom 1): \"))\n",
        "d = int(input(\"Masukkan elemen d (baris 2, kolom 2): \"))\n",
        "\n",
        "# bentuk matriks dari inputan user\n",
        "matrix = [[a, b], [c, d]]\n",
        "\n",
        "# Hitung dan tampilkan determinan\n",
        "hasil = determinant_2x2(matrix)\n",
        "print(f\"Determinan matriks adalah: {hasil}\")\n"
      ],
      "metadata": {
        "colab": {
          "base_uri": "https://localhost:8080/"
        },
        "id": "9OzgcUIIZNnx",
        "outputId": "dae353d5-d03b-4154-f316-ad7283244fdd"
      },
      "execution_count": null,
      "outputs": [
        {
          "output_type": "stream",
          "name": "stdout",
          "text": [
            "Masukkan elemen matriks 2x2 secara berurutan:\n",
            "Masukkan elemen a (baris 1, kolom 1): 2\n",
            "Masukkan elemen b (baris 1, kolom 2): 3\n",
            "Masukkan elemen c (baris 2, kolom 1): 1\n",
            "Masukkan elemen d (baris 2, kolom 2): 4\n",
            "Determinan matriks adalah: 5\n"
          ]
        }
      ]
    }
  ]
}