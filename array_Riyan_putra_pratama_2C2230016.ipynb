{
  "nbformat": 4,
  "nbformat_minor": 0,
  "metadata": {
    "colab": {
      "provenance": [],
      "authorship_tag": "ABX9TyM7qNczmCbuinFpa0OiGy7W",
      "include_colab_link": true
    },
    "kernelspec": {
      "name": "python3",
      "display_name": "Python 3"
    },
    "language_info": {
      "name": "python"
    }
  },
  "cells": [
    {
      "cell_type": "markdown",
      "metadata": {
        "id": "view-in-github",
        "colab_type": "text"
      },
      "source": [
        "<a href=\"https://colab.research.google.com/github/ryynnptr/pemrograman_lanjut/blob/main/array_Riyan_putra_pratama_2C2230016.ipynb\" target=\"_parent\"><img src=\"https://colab.research.google.com/assets/colab-badge.svg\" alt=\"Open In Colab\"/></a>"
      ]
    },
    {
      "cell_type": "markdown",
      "source": [
        "LATIHAN"
      ],
      "metadata": {
        "id": "1tpyPAiggL4u"
      }
    },
    {
      "cell_type": "markdown",
      "source": [
        "**REVERSE**"
      ],
      "metadata": {
        "id": "CE3B-_HWd5gY"
      }
    },
    {
      "cell_type": "markdown",
      "source": [
        "Buatlah program yang menerima N buah bilangan dan menuliskan kembali bilangan-bilangan tersebut,\n",
        "namun dengan urutan terbalik."
      ],
      "metadata": {
        "id": "li4PoNH-f2gP"
      }
    },
    {
      "cell_type": "code",
      "execution_count": 6,
      "metadata": {
        "id": "9rxuL1OOLpon",
        "colab": {
          "base_uri": "https://localhost:8080/"
        },
        "outputId": "4cad03ef-cf79-4bbd-8422-df0dc9979cc9"
      },
      "outputs": [
        {
          "output_type": "stream",
          "name": "stdout",
          "text": [
            "Masukkan N: 5\n",
            "5\n",
            "2\n",
            "1\n",
            "6\n",
            "3\n",
            "Hasil dibalik: 36125"
          ]
        }
      ],
      "source": [
        "n = int(input(\"Masukkan N: \"))\n",
        "bilangan = []\n",
        "for i in range(n):\n",
        "  bilangan.append(int(input()))\n",
        "bilangan.reverse()\n",
        "print(\"Hasil dibalik:\", end=' ')\n",
        "for i in bilangan:\n",
        "  print(i, end='')"
      ]
    },
    {
      "cell_type": "markdown",
      "source": [
        "Interpretasi :"
      ],
      "metadata": {
        "id": "hbP1eRwJgbrl"
      }
    },
    {
      "cell_type": "markdown",
      "source": [
        "**ANAGRAM**"
      ],
      "metadata": {
        "id": "MqXzUj1oeEZs"
      }
    },
    {
      "cell_type": "markdown",
      "source": [
        "Diberikan dua array A dan B. Buatlah sebuah program yang dapat memeriksa apakah B merupakan anagram dari A. Asumsikan elemen pada array A dan B maksimal 10. Array B didefinisikan\n",
        "sebagai anagram dari array A bila elemen-elemen di array A dapat ditukar-tukar sehingga menghasilkan\n",
        "array B.\n",
        " Hint: gunakan tabel frekuensi, yakni sebuah array yang indeks ke-1 menunjukkan banyaknya\n",
        "bilangan 1, indeks ke-2 menunjukkan banyaknya bilangan 2, dan seterusnya.\n"
      ],
      "metadata": {
        "id": "3nQFBPH-f5fT"
      }
    },
    {
      "cell_type": "code",
      "source": [
        "def is_anagram(a, b):\n",
        "  \"\"\"Mengembalikan True jika b adalah anagram dari a, False jika tidak.\"\"\"\n",
        "  # Buat tabel frekuensi untuk a\n",
        "  freq_a = [0] * 11  # Asumsikan elemen maksimal 10\n",
        "  for i in range(len(a)):\n",
        "    freq_a[a[i]] += 1\n",
        "  # Buat tabel frekuensi untuk b\n",
        "  freq_b = [0] * 11\n",
        "  for i in range(len(b)):\n",
        "    freq_b[b[i]] += 1\n",
        "  # Bandingkan tabel frekuensi\n",
        "  for i in range(11):\n",
        "    if freq_a[i] != freq_b[i]:\n",
        "      return False\n",
        "  return True\n",
        "\n",
        "# Input banyaknya elemen a\n",
        "n_a = int(input(\"Masukkan banyaknya elemen A: \"))\n",
        "# Input elemen a\n",
        "a = []\n",
        "for i in range(n_a):\n",
        "  elemen = int(input(f\"Masukkan elemen A ke {i+1}: \"))\n",
        "  a.append(elemen)\n",
        "# Input banyaknya elemen b\n",
        "n_b = int(input(\"Masukkan banyaknya elemen B: \"))\n",
        "# Input elemen b\n",
        "b = []\n",
        "for i in range(n_b):\n",
        "  elemen = int(input(f\"Masukkan elemen B ke {i+1}: \"))\n",
        "  b.append(elemen)\n",
        "\n",
        "# Periksa apakah b adalah anagram dari a\n",
        "if is_anagram(a, b):\n",
        "  print(\"B adalah anagram dari A\")\n",
        "else:\n",
        "  print(\"B bukan anagram dari A\")\n"
      ],
      "metadata": {
        "colab": {
          "base_uri": "https://localhost:8080/"
        },
        "id": "EW1WhiJ4d1ZL",
        "outputId": "7efeae1f-b83d-4659-d8b2-87e74da9c796"
      },
      "execution_count": 3,
      "outputs": [
        {
          "output_type": "stream",
          "name": "stdout",
          "text": [
            "Masukkan banyaknya elemen A: 3\n",
            "Masukkan elemen A ke 1: 8\n",
            "Masukkan elemen A ke 2: 4\n",
            "Masukkan elemen A ke 3: 3\n",
            "Masukkan banyaknya elemen B: 3\n",
            "Masukkan elemen B ke 1: 4\n",
            "Masukkan elemen B ke 2: 8\n",
            "Masukkan elemen B ke 3: 3\n",
            "B adalah anagram dari A\n"
          ]
        }
      ]
    },
    {
      "cell_type": "markdown",
      "source": [
        "Interpretasi :"
      ],
      "metadata": {
        "id": "jYSj_CvTggH8"
      }
    },
    {
      "cell_type": "markdown",
      "source": [
        "**PALINDROM**"
      ],
      "metadata": {
        "id": "fubiuDcOd_Ij"
      }
    },
    {
      "cell_type": "markdown",
      "source": [
        "Buatlah program yang menerima sebuah string dan menuliskan apakah string tersebut palindrom.\n",
        "Asumsikan string hanya berisi huruf kecil (a-z).\n"
      ],
      "metadata": {
        "id": "-zih8AaZgKKw"
      }
    },
    {
      "cell_type": "code",
      "source": [
        "def is_palindrome(s):\n",
        "  return s == s[::-1]\n",
        "\n",
        "n = int(input(\"Masukkan panjang string: \"))\n",
        "s = input(\"Masukkan string: \")\n",
        "\n",
        "if is_palindrome(s):\n",
        "  print(s, \"adalah palindrom\")\n",
        "else:\n",
        "  print(s, \"bukan palindrom\")"
      ],
      "metadata": {
        "colab": {
          "base_uri": "https://localhost:8080/"
        },
        "id": "HxtmOBi7dORd",
        "outputId": "ee86ebbe-64ac-45e6-80bc-9ca219694eeb"
      },
      "execution_count": 1,
      "outputs": [
        {
          "output_type": "stream",
          "name": "stdout",
          "text": [
            "Masukkan panjang string: 5\n",
            "Masukkan string: makan\n",
            "makan bukan palindrom\n"
          ]
        }
      ]
    },
    {
      "cell_type": "markdown",
      "source": [
        "Interpretasi :"
      ],
      "metadata": {
        "id": "a3PpVEPpgi24"
      }
    }
  ]
}