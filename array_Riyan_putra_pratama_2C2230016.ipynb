{
  "nbformat": 4,
  "nbformat_minor": 0,
  "metadata": {
    "colab": {
      "provenance": [],
      "authorship_tag": "ABX9TyN4CyQ3hoqLPE1vJJRa91mF",
      "include_colab_link": true
    },
    "kernelspec": {
      "name": "python3",
      "display_name": "Python 3"
    },
    "language_info": {
      "name": "python"
    }
  },
  "cells": [
    {
      "cell_type": "markdown",
      "metadata": {
        "id": "view-in-github",
        "colab_type": "text"
      },
      "source": [
        "<a href=\"https://colab.research.google.com/github/ryynnptr/pemrograman_lanjut/blob/main/array_Riyan_putra_pratama_2C2230016.ipynb\" target=\"_parent\"><img src=\"https://colab.research.google.com/assets/colab-badge.svg\" alt=\"Open In Colab\"/></a>"
      ]
    },
    {
      "cell_type": "markdown",
      "source": [
        "#**🖥️👩🏻‍💻PRAKTIKUM PEMROGRAMAN LANJUT🔥**\n",
        "##**Pertemuan (3) ARRAY - Senin, 28 Oktober 2024**\n",
        "\n",
        "👤 Nama: Riyan putra pratama / NRP: 2C2230016 / Kelas: III/A Sains Data"
      ],
      "metadata": {
        "id": "hn_dcdyMO34C"
      }
    },
    {
      "cell_type": "markdown",
      "source": [
        "LATIHAN"
      ],
      "metadata": {
        "id": "1tpyPAiggL4u"
      }
    },
    {
      "cell_type": "markdown",
      "source": [
        "**1.REVERSE**"
      ],
      "metadata": {
        "id": "CE3B-_HWd5gY"
      }
    },
    {
      "cell_type": "markdown",
      "source": [
        "Buatlah program yang menerima N buah bilangan dan menuliskan kembali bilangan-bilangan tersebut,\n",
        "namun dengan urutan terbalik."
      ],
      "metadata": {
        "id": "li4PoNH-f2gP"
      }
    },
    {
      "cell_type": "code",
      "execution_count": null,
      "metadata": {
        "id": "9rxuL1OOLpon",
        "colab": {
          "base_uri": "https://localhost:8080/"
        },
        "outputId": "4cad03ef-cf79-4bbd-8422-df0dc9979cc9"
      },
      "outputs": [
        {
          "output_type": "stream",
          "name": "stdout",
          "text": [
            "Masukkan N: 5\n",
            "5\n",
            "2\n",
            "1\n",
            "6\n",
            "3\n",
            "Hasil dibalik: 36125"
          ]
        }
      ],
      "source": [
        "n = int(input(\"Masukkan N: \"))\n",
        "bilangan = []\n",
        "for i in range(n):\n",
        "  bilangan.append(int(input()))\n",
        "bilangan.reverse()\n",
        "print(\"Hasil dibalik:\", end=' ')\n",
        "for i in bilangan:\n",
        "  print(i, end='')"
      ]
    },
    {
      "cell_type": "markdown",
      "source": [
        "Interpretasi :\n",
        "\n",
        "* **Input dari Pengguna:**\n",
        "\n",
        "\n",
        "Program dimulai dengan meminta pengguna untuk memasukkan sebuah angka N, yang menunjukkan jumlah bilangan yang akan dimasukkan. Ini dilakukan melalui fungsi input() yang kemudian diubah menjadi integer menggunakan int().\n",
        "Selanjutnya, program akan meminta pengguna untuk memasukkan N bilangan bulat satu per satu. Setiap bilangan yang dimasukkan akan disimpan dalam sebuah list bernama bilangan.\n",
        "\n",
        "\n",
        "* **Menyimpan Bilangan:**\n",
        "\n",
        "Program menggunakan loop for untuk mengulangi proses pengambilan input sebanyak N kali. Setiap bilangan yang dimasukkan oleh pengguna akan ditambahkan ke list bilangan menggunakan metode append().\n",
        "\n",
        "* **Membalik Urutan Bilangan:**\n",
        "\n",
        "Setelah semua bilangan dimasukkan, program akan membalik urutan bilangan dalam list menggunakan metode reverse(). Ini berarti bilangan terakhir yang dimasukkan akan menjadi yang pertama dalam list, dan sebaliknya.\n",
        "\n",
        "\n",
        "\n",
        "* **Mencetak Hasil:**\n",
        "\n",
        "Program kemudian mencetak hasil dari bilangan yang telah dibalik. Untuk mencetak bilangan-bilangan tersebut, program menggunakan loop for untuk iterasi melalui list bilangan yang sudah dibalik.\n",
        "Setiap bilangan dicetak diikuti oleh spasi, sehingga hasilnya lebih mudah dibaca.\n",
        "Di akhir pencetakan, program menambahkan print() kosong untuk memberikan newline, sehingga output berikutnya (jika ada) tidak akan dicetak di baris yang sama.\n",
        "\n",
        "\n",
        "\n",
        "* **Contoh Penggunaan**\n",
        "\n",
        "Misalkan pengguna menjalankan program ini dan memasukkan nilai N = 3, dan kemudian memasukkan bilangan 1, 2, dan 3. Berikut adalah langkah-langkah yang terjadi:\n",
        "\n",
        "Pengguna memasukkan N = 3.\n",
        "Pengguna kemudian diminta untuk memasukkan bilangan:\n",
        "Masukkan bilangan ke-1: 1\n",
        "Masukkan bilangan ke-2: 2\n",
        "Masukkan bilangan ke-3: 3\n",
        "List bilangan sekarang berisi [1, 2, 3].\n",
        "Setelah dibalik, list tersebut menjadi [3, 2, 1].\n",
        "Program mencetak hasilnya: Hasil dibalik: 3 2 1.\n",
        "\n",
        "* **Kesimpulan**\n",
        "\n",
        "Program ini adalah contoh sederhana dari penggunaan list, loop, dan fungsi input/output di Python. Ini dapat digunakan sebagai dasar untuk memahami konsep dasar pemrograman, termasuk pengulangan, pengolahan data, dan manipulasi list. Jika Anda ingin menambahkan fitur lain atau mengubah fungsionalitas program, Anda dapat melakukannya dengan menyesuaikan bagian-bagian tertentu dari kode."
      ],
      "metadata": {
        "id": "hab21-ySPmnB"
      }
    },
    {
      "cell_type": "markdown",
      "source": [
        "**2.ANAGRAM**"
      ],
      "metadata": {
        "id": "MqXzUj1oeEZs"
      }
    },
    {
      "cell_type": "markdown",
      "source": [
        "Diberikan dua array A dan B. Buatlah sebuah program yang dapat memeriksa apakah B merupakan anagram dari A. Asumsikan elemen pada array A dan B maksimal 10. Array B didefinisikan\n",
        "sebagai anagram dari array A bila elemen-elemen di array A dapat ditukar-tukar sehingga menghasilkan\n",
        "array B.\n",
        " Hint: gunakan tabel frekuensi, yakni sebuah array yang indeks ke-1 menunjukkan banyaknya\n",
        "bilangan 1, indeks ke-2 menunjukkan banyaknya bilangan 2, dan seterusnya.\n"
      ],
      "metadata": {
        "id": "3nQFBPH-f5fT"
      }
    },
    {
      "cell_type": "code",
      "source": [
        "def is_anagram(a, b):\n",
        "  \"\"\"Mengembalikan True jika b adalah anagram dari a, False jika tidak.\"\"\"\n",
        "  # Buat tabel frekuensi untuk a\n",
        "  freq_a = [0] * 11  # Asumsikan elemen maksimal 10\n",
        "  for i in range(len(a)):\n",
        "    freq_a[a[i]] += 1\n",
        "  # Buat tabel frekuensi untuk b\n",
        "  freq_b = [0] * 11\n",
        "  for i in range(len(b)):\n",
        "    freq_b[b[i]] += 1\n",
        "  # Bandingkan tabel frekuensi\n",
        "  for i in range(11):\n",
        "    if freq_a[i] != freq_b[i]:\n",
        "      return False\n",
        "  return True\n",
        "\n",
        "# Input banyaknya elemen a\n",
        "n_a = int(input(\"Masukkan banyaknya elemen A: \"))\n",
        "# Input elemen a\n",
        "a = []\n",
        "for i in range(n_a):\n",
        "  elemen = int(input(f\"Masukkan elemen A ke {i+1}: \"))\n",
        "  a.append(elemen)\n",
        "# Input banyaknya elemen b\n",
        "n_b = int(input(\"Masukkan banyaknya elemen B: \"))\n",
        "# Input elemen b\n",
        "b = []\n",
        "for i in range(n_b):\n",
        "  elemen = int(input(f\"Masukkan elemen B ke {i+1}: \"))\n",
        "  b.append(elemen)\n",
        "\n",
        "# Periksa apakah b adalah anagram dari a\n",
        "if is_anagram(a, b):\n",
        "  print(\"B adalah anagram dari A\")\n",
        "else:\n",
        "  print(\"B bukan anagram dari A\")\n"
      ],
      "metadata": {
        "colab": {
          "base_uri": "https://localhost:8080/"
        },
        "id": "EW1WhiJ4d1ZL",
        "outputId": "7efeae1f-b83d-4659-d8b2-87e74da9c796"
      },
      "execution_count": null,
      "outputs": [
        {
          "output_type": "stream",
          "name": "stdout",
          "text": [
            "Masukkan banyaknya elemen A: 3\n",
            "Masukkan elemen A ke 1: 8\n",
            "Masukkan elemen A ke 2: 4\n",
            "Masukkan elemen A ke 3: 3\n",
            "Masukkan banyaknya elemen B: 3\n",
            "Masukkan elemen B ke 1: 4\n",
            "Masukkan elemen B ke 2: 8\n",
            "Masukkan elemen B ke 3: 3\n",
            "B adalah anagram dari A\n"
          ]
        }
      ]
    },
    {
      "cell_type": "markdown",
      "source": [
        "Interpretasi :\n",
        "\n",
        "* **Fungsi is_anagram(a, b):**\n",
        "\n",
        "Fungsi ini menerima dua parameter, a dan b, yang merupakan list dari bilangan bulat.\n",
        "Di dalam fungsi, dua list frekuensi (freq_a dan freq_b) dibuat untuk menghitung berapa banyak setiap elemen (dari 0 hingga 10) muncul dalam list a dan b.\n",
        "Setelah menghitung frekuensi masing-masing elemen, fungsi membandingkan kedua list frekuensi. Jika ada perbedaan dalam frekuensi untuk elemen mana pun, fungsi mengembalikan False, menandakan bahwa b bukan anagram dari a. Jika semua frekuensi sama, fungsi mengembalikan True.\n",
        "\n",
        "\n",
        "* **Input dari Pengguna:**\n",
        "\n",
        "Program meminta pengguna untuk memasukkan jumlah elemen untuk list a dan kemudian meminta pengguna untuk memasukkan elemen-elemen tersebut.\n",
        "Proses yang sama diulang untuk list b.\n",
        "\n",
        "\n",
        "* **Memeriksa Anagram**:\n",
        "\n",
        "Setelah kedua list diisi, program memanggil fungsi is_anagram(a, b) untuk memeriksa apakah b adalah anagram dari a.\n",
        "Berdasarkan hasil dari fungsi, program mencetak apakah b adalah anagram dari a atau tidak.\n",
        "\n",
        "\n",
        "* **Contoh Penggunaan**\n",
        "\n",
        "\n",
        "Pengguna diminta untuk memasukkan banyaknya elemen A:\n",
        "Misalkan pengguna memasukkan 3.\n",
        "Pengguna kemudian diminta untuk memasukkan elemen A:\n",
        "Masukkan elemen A ke 1: 1\n",
        "Masukkan elemen A ke 2: 2\n",
        "Masukkan elemen A ke 3: 3\n",
        "List a sekarang adalah [1, 2, 3].\n",
        "Pengguna diminta untuk memasukkan banyaknya elemen B:\n",
        "Misalkan pengguna memasukkan 3.\n",
        "Pengguna kemudian diminta untuk memasukkan elemen B:\n",
        "Masukkan elemen B ke 1: 3\n",
        "Masukkan elemen B ke 2: 2\n",
        "Masukkan elemen B ke 3: 1\n",
        "List b sekarang adalah [3, 2, 1].\n",
        "Program memeriksa apakah b adalah anagram dari a:\n",
        "Karena kedua list memiliki elemen yang sama dengan frekuensi yang sama, program akan mencetak: B adalah anagram dari A."
      ],
      "metadata": {
        "id": "jYSj_CvTggH8"
      }
    },
    {
      "cell_type": "markdown",
      "source": [
        "**3.PALINDROM**"
      ],
      "metadata": {
        "id": "fubiuDcOd_Ij"
      }
    },
    {
      "cell_type": "markdown",
      "source": [
        "Buatlah program yang menerima sebuah string dan menuliskan apakah string tersebut palindrom.\n",
        "Asumsikan string hanya berisi huruf kecil (a-z).\n"
      ],
      "metadata": {
        "id": "-zih8AaZgKKw"
      }
    },
    {
      "cell_type": "code",
      "source": [
        "def is_palindrome(s):\n",
        "  return s == s[::-1]\n",
        "\n",
        "n = int(input(\"Masukkan panjang string: \"))\n",
        "s = input(\"Masukkan string: \")\n",
        "\n",
        "if is_palindrome(s):\n",
        "  print(s, \"adalah palindrom\")\n",
        "else:\n",
        "  print(s, \"bukan palindrom\")"
      ],
      "metadata": {
        "colab": {
          "base_uri": "https://localhost:8080/"
        },
        "id": "HxtmOBi7dORd",
        "outputId": "ee86ebbe-64ac-45e6-80bc-9ca219694eeb"
      },
      "execution_count": null,
      "outputs": [
        {
          "output_type": "stream",
          "name": "stdout",
          "text": [
            "Masukkan panjang string: 5\n",
            "Masukkan string: makan\n",
            "makan bukan palindrom\n"
          ]
        }
      ]
    },
    {
      "cell_type": "markdown",
      "source": [
        "Interpretasi :\n",
        "\n",
        "* **Fungsi is_palindrome(s):**\n",
        "\n",
        "Fungsi ini menerima satu parameter, s, yang merupakan string yang akan diperiksa.\n",
        "Fungsi ini menggunakan slicing untuk membalik string (s[::-1]) dan membandingkannya dengan string asli (s).\n",
        "Jika string sama dengan string yang dibalik, fungsi mengembalikan True, menandakan bahwa string tersebut adalah palindrom. Jika tidak, fungsi mengembalikan False.\n",
        "\n",
        "\n",
        "* **Input dari Pengguna:**\n",
        "\n",
        "Program meminta pengguna untuk memasukkan panjang string yang diinginkan, meskipun panjang ini tidak digunakan dalam logika program.\n",
        "Kemudian, program meminta pengguna untuk memasukkan string yang akan diperiksa.\n",
        "Memeriksa Palindrom:\n",
        "\n",
        "Setelah string dimasukkan, program memanggil fungsi is_palindrome(s) untuk memeriksa apakah string tersebut adalah palindrom.\n",
        "Berdasarkan hasil dari fungsi, program mencetak apakah string tersebut adalah palindrom atau bukan.\n",
        "\n",
        "\n",
        "* **Contoh Penggunaan**\n",
        "\n",
        "\n",
        "Pengguna diminta untuk memasukkan panjang string:\n",
        "Misalkan pengguna memasukkan 5.\n",
        "Pengguna kemudian diminta untuk memasukkan string:\n",
        "Masukkan string: level\n",
        "Program memeriksa apakah level adalah palindrom:\n",
        "Karena level dibaca sama dari depan dan belakang, program akan mencetak: level adalah palindrom."
      ],
      "metadata": {
        "id": "a3PpVEPpgi24"
      }
    },
    {
      "cell_type": "markdown",
      "source": [
        "📌Catatan:\n",
        "  - Notebook python ini dibuat untuk memudahkan temen-temen belajar ngoding dan pengumpulan tugas.\n",
        "  - Silakan download notebook ini lalu upload di Google Collab milik kalian agar format `pertemuan`, `topik pertemuan`,\n",
        "`tanggal`, `deskripsi pembahasan materi`, `baris coding` dan `interpretasi` bisa disesuaikan dengan kebutuhan teman-teman.\n",
        "\n",
        "  - Interpretasi coding dan hasil dimaksudkan agar teman-teman semakin memahami apa yang dipelajari.\n",
        "\n",
        "  - Deskripsi pembahasan materi dimaksudkan agar teman-teman semakin memahami apa fokus yang dipelajari.\n",
        "\n",
        "  - Tulisan di setiap sebelum baris code disebut `markdown`. Ada beberapa jenis simbol yang memudahkan kepenulisan `markdown` kita, yaitu seperti : untuk mengatur ukuran tulisan biasanya tulisan pada header menggunakan ini`#`, `##`, `###`, untuk membuat pointer menggunakan ini `-`, untuk membuat tulisan ter-highlight menggunakan ini *` `* , untuk short-cut membuat tulisan jadi **bold** gunakan ini `** **`, dan untuk *tulisan miring* gunakan ini `* *` .\n",
        "\n",
        "  - Semangat belajar! 🌟✨\n",
        "\n",
        "©️ LABORATORIUM SAINS DATA 2024"
      ],
      "metadata": {
        "id": "8SDJg2TIPJCm"
      }
    }
  ]
}