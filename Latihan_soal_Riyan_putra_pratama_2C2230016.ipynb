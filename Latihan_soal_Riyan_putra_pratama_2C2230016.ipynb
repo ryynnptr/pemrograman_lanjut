{
  "nbformat": 4,
  "nbformat_minor": 0,
  "metadata": {
    "colab": {
      "provenance": [],
      "authorship_tag": "ABX9TyPQyoJKPzDnqkjUMB2yxJjN",
      "include_colab_link": true
    },
    "kernelspec": {
      "name": "python3",
      "display_name": "Python 3"
    },
    "language_info": {
      "name": "python"
    }
  },
  "cells": [
    {
      "cell_type": "markdown",
      "metadata": {
        "id": "view-in-github",
        "colab_type": "text"
      },
      "source": [
        "<a href=\"https://colab.research.google.com/github/ryynnptr/pemrograman_lanjut/blob/main/Latihan_soal_Riyan_putra_pratama_2C2230016.ipynb\" target=\"_parent\"><img src=\"https://colab.research.google.com/assets/colab-badge.svg\" alt=\"Open In Colab\"/></a>"
      ]
    },
    {
      "cell_type": "markdown",
      "source": [
        "QUIZz\n",
        "\n",
        "Nama : Riyan putra pratama\n",
        "\n",
        "NRP : 2C2230016\n",
        "\n",
        "Tanggal : 4-11-2024"
      ],
      "metadata": {
        "id": "_MZRSbwBPaVG"
      }
    },
    {
      "cell_type": "code",
      "execution_count": 3,
      "metadata": {
        "colab": {
          "base_uri": "https://localhost:8080/"
        },
        "id": "Py2rRf1yOJdX",
        "outputId": "bfefda39-c24f-4809-d0f5-a466de1d3451"
      },
      "outputs": [
        {
          "output_type": "stream",
          "name": "stdout",
          "text": [
            "Masukkan berat badan atlit (dalam kg): 70\n",
            "Kelas E\n"
          ]
        }
      ],
      "source": [
        "#soal 1\n",
        "berat_badan = int(input(\"Masukkan berat badan atlit (dalam kg): \"))\n",
        "\n",
        "if berat_badan < 45:\n",
        "    print(\"Tidak memenuhi kualifikasi.\")\n",
        "elif 45 <= berat_badan <= 50:\n",
        "    print(\"Kelas A\")\n",
        "elif 50 < berat_badan <= 55:\n",
        "    print(\"Kelas B\")\n",
        "elif 55 < berat_badan <= 60:\n",
        "    print(\"Kelas C\")\n",
        "elif 60 < berat_badan <= 65:\n",
        "    print(\"Kelas D\")\n",
        "elif 65 < berat_badan <= 70:\n",
        "    print(\"Kelas E\")\n",
        "else:\n",
        "    print(\"Kelas F\")"
      ]
    },
    {
      "cell_type": "code",
      "source": [
        "#soal 2\n",
        "angka = int(input(\"Masukkan bilangan bulat ratusan (3 digit): \"))\n",
        "\n",
        "ratusan = angka // 100\n",
        "puluhan = (angka % 100) // 10\n",
        "satuan = angka % 10\n",
        "jumlah = ratusan**3 + puluhan**3 + satuan**3\n",
        "print(ratusan, \"^3 +\", puluhan, \"^3 +\", satuan, \"^3 =\", jumlah)\n",
        "\n",
        "if jumlah == angka:\n",
        "  print(\"Bilangan\", angka, \"adalah bilangan Armstrong\")\n",
        "else:\n",
        "  print(\"Bilangan\", angka, \"bukan bilangan Armstrong\")"
      ],
      "metadata": {
        "colab": {
          "base_uri": "https://localhost:8080/"
        },
        "id": "9HYQl9UzR1-k",
        "outputId": "e761d556-3681-4dae-8337-d20ec160ec8a"
      },
      "execution_count": 10,
      "outputs": [
        {
          "output_type": "stream",
          "name": "stdout",
          "text": [
            "Masukkan bilangan bulat ratusan (3 digit): 153\n",
            "1 ^3 + 5 ^3 + 3 ^3 = 153\n",
            "Bilangan 153 adalah bilangan Armstrong\n"
          ]
        }
      ]
    },
    {
      "cell_type": "code",
      "source": [
        "#soal 3\n",
        "import math\n",
        "\n",
        "jari_jari = float(input(\"Masukkan jari-jari lingkaran: \"))\n",
        "\n",
        "volume = (4/3) * math.pi * jari_jari**3\n",
        "\n",
        "print(\"Volume lingkaran dengan jari-jari\", jari_jari, \"adalah\", volume)\n",
        "\n",
        "\n"
      ],
      "metadata": {
        "colab": {
          "base_uri": "https://localhost:8080/"
        },
        "id": "mc5-J0ODUS0q",
        "outputId": "8dc9eb10-e63a-46ab-d0b9-67b2bcee08f5"
      },
      "execution_count": 26,
      "outputs": [
        {
          "output_type": "stream",
          "name": "stdout",
          "text": [
            "Masukkan jari-jari lingkaran: 10\n",
            "Volume lingkaran dengan jari-jari 10.0 adalah 4188.790204786391\n"
          ]
        }
      ]
    },
    {
      "cell_type": "code",
      "source": [
        "total_tinggi = 0\n",
        "jumlah_siswa_valid = 0\n",
        "tinggi_valid = []\n",
        "\n",
        "\n",
        "n = int(input(\"Masukkan jumlah siswa: \"))\n",
        "\n",
        "\n",
        "print(\"Masukkan tinggi setiap siswa (dalam cm):\")\n",
        "for i in range(n):\n",
        "    tinggi = int(input(f\"Tinggi siswa ke-{i+1}: \"))\n",
        "\n",
        "\n",
        "    if 100 <= tinggi <= 200:\n",
        "        total_tinggi += tinggi\n",
        "        jumlah_siswa_valid += 1\n",
        "        tinggi_valid.append(tinggi)\n",
        "\n",
        "\n",
        "print(\"Hasil Perhitungan:\")\n",
        "if jumlah_siswa_valid > 0:\n",
        "    rata_rata = total_tinggi / jumlah_siswa_valid\n",
        "    print(f\"Jumlah siswa total: {n}\")\n",
        "    print(f\"Jumlah siswa dengan tinggi valid: {jumlah_siswa_valid}\")\n",
        "    print(f\"Data tinggi yang valid: {tinggi_valid}\")\n",
        "    print(f\"Rata-rata tinggi: {rata_rata:.2f} cm\")\n",
        "\n",
        "    if jumlah_siswa_valid < n:\n",
        "        print(f\"Catatan: {n - jumlah_siswa_valid} data tinggi diabaikan karena di luar rentang 100-200 cm\")\n",
        "else:\n",
        "    print(\"Tidak ada data tinggi yang valid untuk dihitung (semua di luar rentang 100-200 cm)\")"
      ],
      "metadata": {
        "colab": {
          "base_uri": "https://localhost:8080/"
        },
        "id": "FVC7xItAWmai",
        "outputId": "4b33ab5d-466a-46a2-ca2f-5c4355fea0ad"
      },
      "execution_count": 10,
      "outputs": [
        {
          "output_type": "stream",
          "name": "stdout",
          "text": [
            "Masukkan jumlah siswa: 5\n",
            "Masukkan tinggi setiap siswa (dalam cm):\n",
            "Tinggi siswa ke-1: 160\n",
            "Tinggi siswa ke-2: 170\n",
            "Tinggi siswa ke-3: 180\n",
            "Tinggi siswa ke-4: 190\n",
            "Tinggi siswa ke-5: 167\n",
            "Hasil Perhitungan:\n",
            "Jumlah siswa total: 5\n",
            "Jumlah siswa dengan tinggi valid: 5\n",
            "Data tinggi yang valid: [160, 170, 180, 190, 167]\n",
            "Rata-rata tinggi: 173.40 cm\n"
          ]
        }
      ]
    },
    {
      "cell_type": "code",
      "source": [
        "jumlah_mahasiswa = int(input(\"Masukkan jumlah mahasiswa: \"))\n",
        "\n",
        "for i in range(jumlah_mahasiswa):\n",
        "    nama = input(\"Masukkan nama mahasiswa: \")\n",
        "    praktikum = float(input(\"Masukkan nilai praktikum: \"))\n",
        "    uts = float(input(\"Masukkan nilai uts: \"))\n",
        "    uas = float(input(\"Masukkan nilai uas: \"))\n",
        "\n",
        "    nilai_akhir = 0.2 * praktikum + 0.4 * uts + 0.4 * uas\n",
        "\n",
        "    if nilai_akhir >= 85:\n",
        "        indeks = \"A\"\n",
        "    elif 85 > nilai_akhir >= 75:\n",
        "        indeks = \"AB\"\n",
        "    elif 75 > nilai_akhir >= 70 :\n",
        "        indeks = \"B\"\n",
        "    elif 70 > nilai_akhir >= 60:\n",
        "        indeks = \"BC\"\n",
        "    elif  60 > nilai_akhir >= 50:\n",
        "        indeks = \"C\"\n",
        "    elif 50 > nilai_akhir >= 40:\n",
        "        indeks = \"D\"\n",
        "    else:\n",
        "        indeks = \"E\"\n",
        "\n",
        "\n",
        "    print(f\"Nama: {nama}\")\n",
        "    print(f\"Nilai Akhir: {nilai_akhir:}\")\n",
        "    print(f\"Indeks: {indeks}\")\n"
      ],
      "metadata": {
        "colab": {
          "base_uri": "https://localhost:8080/"
        },
        "id": "OqSftJyGZbO6",
        "outputId": "8ec1e7a3-8960-447b-c61b-4ba74ec50455"
      },
      "execution_count": 20,
      "outputs": [
        {
          "output_type": "stream",
          "name": "stdout",
          "text": [
            "Masukkan jumlah mahasiswa: 2\n",
            "Masukkan nama mahasiswa: udin\n",
            "Masukkan nilai praktikum: 50\n",
            "Masukkan nilai uts: 50\n",
            "Masukkan nilai uas: 50\n",
            "Nama: udin\n",
            "Nilai Akhir: 50.0\n",
            "Indeks: C\n",
            "Masukkan nama mahasiswa: asep\n",
            "Masukkan nilai praktikum: 90\n",
            "Masukkan nilai uts: 70\n",
            "Masukkan nilai uas: 70\n",
            "Nama: asep\n",
            "Nilai Akhir: 74.0\n",
            "Indeks: B\n"
          ]
        }
      ]
    }
  ]
}